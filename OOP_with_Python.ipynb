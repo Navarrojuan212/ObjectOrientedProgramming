{
  "nbformat": 4,
  "nbformat_minor": 0,
  "metadata": {
    "colab": {
      "name": "OOP_with_Python.ipynb",
      "provenance": [],
      "collapsed_sections": [],
      "authorship_tag": "ABX9TyMbwuhhLw1UuunGzuMJ2c0O",
      "include_colab_link": true
    },
    "kernelspec": {
      "name": "python3",
      "display_name": "Python 3"
    }
  },
  "cells": [
    {
      "cell_type": "markdown",
      "metadata": {
        "id": "view-in-github",
        "colab_type": "text"
      },
      "source": [
        "<a href=\"https://colab.research.google.com/github/Navarrojuan212/ObjectOrientedProgramming/blob/main/OOP_with_Python.ipynb\" target=\"_parent\"><img src=\"https://colab.research.google.com/assets/colab-badge.svg\" alt=\"Open In Colab\"/></a>"
      ]
    },
    {
      "cell_type": "code",
      "metadata": {
        "id": "WHPZpTpmpgiY"
      },
      "source": [
        "\"\"\"Cómo insertar una imagen (?)\"\"\"\n",
        "#![](https://drive.google.com/uc?export=view&id=your_id)"
      ],
      "execution_count": null,
      "outputs": []
    },
    {
      "cell_type": "markdown",
      "metadata": {
        "id": "SXVVWQ5dpTrr"
      },
      "source": [
        "[**Tips Colab**](https://towardsdatascience.com/cheat-sheet-for-google-colab-63853778c093)"
      ]
    },
    {
      "cell_type": "markdown",
      "metadata": {
        "id": "vrzEy4uyrrv6"
      },
      "source": [
        "#[PEP8](https://pep8.org/#maximum-line-length)"
      ]
    },
    {
      "cell_type": "markdown",
      "metadata": {
        "id": "y6_ChJXkwUPS"
      },
      "source": [
        "##[PEP8](https://realpython.com/python-pep8/)"
      ]
    },
    {
      "cell_type": "markdown",
      "metadata": {
        "id": "I3UEWwZU4D6_"
      },
      "source": [
        "#[**Object-Oriented Programming-OOP**](https://www.youtube.com/watch?v=iliKayKaGtc)\n",
        "\n",
        "\n",
        "\n",
        "\n",
        "\n",
        "\n",
        "\n",
        "\n"
      ]
    },
    {
      "cell_type": "markdown",
      "metadata": {
        "id": "HB8HFxknGJkP"
      },
      "source": [
        "##**Objeto** \n",
        "\n",
        "Algo que se quiere representar y no es suficiente con una variable.\n",
        "\n",
        "Dos objetos pueden tener los mismos atributos, pero estos atributos pueden tener diferentes valores, esto define el ***estado del objeto***\n",
        "\n",
        "    "
      ]
    },
    {
      "cell_type": "markdown",
      "metadata": {
        "id": "jWbrVbS1G4uM"
      },
      "source": [
        "##***Atributos***\n",
        "\n",
        "Característica que define a un objeto. Están representados mediante variables. \n",
        "\n",
        "**NOTA:** _Se pueden crear atributos de manera dinámica durante la ejecución._\n",
        ">***Atributos de clase:*** Son compartidos para todos los objetos de una misma clase. Es comunmente usado para las constantes\n",
        "\n",
        ">***Atributos de instancia:***\n"
      ]
    },
    {
      "cell_type": "markdown",
      "metadata": {
        "id": "11snUhjNHMVO"
      },
      "source": [
        "##***Métodos*** \n",
        "\n",
        "Acciones que podemos realizar al objeto\n",
        "\n",
        "  - Necesitan de una clase para existir\n",
        "  - Dan funcionalidad a los objetos\n",
        "  - Suelen definirse con un verbo\n",
        "  - Son similares a las funciones (Con algoritmos, parámetros y valor de retorno)\n",
        "  - Puede invocarse desde el propio objeto que lo contiene o desde otro, con la sintaxis ***Objeto.método()***"
      ]
    },
    {
      "cell_type": "markdown",
      "metadata": {
        "id": "ncaS6vtPHdE2"
      },
      "source": [
        "\n",
        "**Referencia:** \n",
        "\n",
        "[_\"...La diferencia fundamental es que los atributos de clase son compartidos por todas las instancias de esa clase, mientras que los atributos de instancia son particulares para cada objeto creado con esa clase. Por tanto, las variables de instancia son para datos únicos y propios para cada objeto y las variables de clase son para atributos que deban ser compartidos por todas las instancias de esa clase.\"_](https://es.stackoverflow.com/questions/132561/diferencia-entre-atributos-de-instancia-y-atributos-de-clase)\n"
      ]
    },
    {
      "cell_type": "markdown",
      "metadata": {
        "id": "pdQjZ9deIuS-"
      },
      "source": [
        "#####***Método constructor***\n",
        "```def __init__```\n",
        "- Es un método especial, instancia objetos de una clase (se invoca automaticamente).\n",
        "- En el se pueden inicializar los atributos de un objeto.\n",
        "- No es obligatorio crealo ni inicializar todos los atributos.\n",
        "\n",
        "\n",
        "``` python\n",
        "class Ejemplo():\n",
        "  def __init__(self,parametro1, parametro2)\n",
        "    self.atributo1 = parametro1\n",
        "    self.atributo2 = parametro2\n",
        "\n",
        "\n",
        "un_ejemplo = Ejemplo(\"Un valor\", \"Otro valor\")\n",
        "un_ejemplo.atributo1\n",
        "'Un valor'\n",
        "```"
      ]
    },
    {
      "cell_type": "code",
      "metadata": {
        "colab": {
          "base_uri": "https://localhost:8080/",
          "height": 35
        },
        "id": "xAhxNMBw5h5U",
        "outputId": "c1a4b0c3-65e7-4402-eb08-80c2b5850c3a"
      },
      "source": [
        "class Ejemplo:\n",
        "  def __init__(self,parametro1,parametro2):\n",
        "    self.atributo1 = parametro1\n",
        "    self.atributo2 = parametro2\n",
        "\n",
        "#Nombre de la clase con la lista de argumentos\n",
        "un_ejemplo = Ejemplo(\"Un valor\", \"Otro valor\") \n"
      ],
      "execution_count": null,
      "outputs": [
        {
          "output_type": "execute_result",
          "data": {
            "application/vnd.google.colaboratory.intrinsic+json": {
              "type": "string"
            },
            "text/plain": [
              "'Un valor'"
            ]
          },
          "metadata": {
            "tags": []
          },
          "execution_count": 13
        }
      ]
    },
    {
      "cell_type": "code",
      "metadata": {
        "id": "jOBk4AHpm_G4"
      },
      "source": [
        "class ejemplo:\n",
        "  def __init__(self,parametro_1,parametro_2):\n",
        "    self.atributo_1 = parametro_1\n",
        "    self.atributo_2 = parametro_2\n",
        "\n",
        "#Ejemplo de creación de objeto de clase \"ejemplo\""
      ],
      "execution_count": null,
      "outputs": []
    },
    {
      "cell_type": "code",
      "metadata": {
        "colab": {
          "base_uri": "https://localhost:8080/"
        },
        "id": "xi9v8AoANTf1",
        "outputId": "f23f9f5d-7f47-45d3-d6b8-e27152456226"
      },
      "source": [
        "un_ejemplo \n",
        "#Nos arroja como resultado, el tipo del objeto y la dirección en memoria\n"
      ],
      "execution_count": null,
      "outputs": [
        {
          "output_type": "execute_result",
          "data": {
            "text/plain": [
              "<__main__.Ejemplo at 0x7ff9e959ee10>"
            ]
          },
          "metadata": {
            "tags": []
          },
          "execution_count": 14
        }
      ]
    },
    {
      "cell_type": "code",
      "metadata": {
        "colab": {
          "base_uri": "https://localhost:8080/",
          "height": 35
        },
        "id": "wTgUZgT0ODdS",
        "outputId": "e1b1bf3b-d410-4e19-d2b5-0cfd54f24323"
      },
      "source": [
        "un_ejemplo.atributo1  \n"
      ],
      "execution_count": null,
      "outputs": [
        {
          "output_type": "execute_result",
          "data": {
            "application/vnd.google.colaboratory.intrinsic+json": {
              "type": "string"
            },
            "text/plain": [
              "'Un valor'"
            ]
          },
          "metadata": {
            "tags": []
          },
          "execution_count": 15
        }
      ]
    },
    {
      "cell_type": "markdown",
      "metadata": {
        "id": "CZd3jRYwOUF_"
      },
      "source": [
        "***NOTA:*** No necesariamente el constructor tiene que tener los atributos definidos a través de los parámetros de entrada.\n",
        "\n",
        "Podría ser diferente como se muestra a continuación.\n",
        "\n",
        "```python\n",
        "\n",
        "class Ejemplo():\n",
        "  def __init__(self,parámetro1,parámetro2):\n",
        "    self.atributo1 = parámetro1\n",
        "    self.atributo2 = 100\n",
        "```"
      ]
    },
    {
      "cell_type": "code",
      "metadata": {
        "id": "L16cvvA0OJ5v"
      },
      "source": [
        " class Ejemplo():\n",
        "      def __init__(self,parametro1):\n",
        "        self.atributo1 = parametro1\n",
        "        self.atributo2 = 100\n",
        "        "
      ],
      "execution_count": null,
      "outputs": []
    },
    {
      "cell_type": "code",
      "metadata": {
        "id": "hLQDrfJuQgke"
      },
      "source": [
        "otro_ejemplo = Ejemplo(\"Un dato\")\n"
      ],
      "execution_count": null,
      "outputs": []
    },
    {
      "cell_type": "code",
      "metadata": {
        "colab": {
          "base_uri": "https://localhost:8080/"
        },
        "id": "H0yxkKpbQrAx",
        "outputId": "c7540267-dc8a-4c37-f2bb-9ae19d4a46da"
      },
      "source": [
        "otro_ejemplo.atributo2  \n"
      ],
      "execution_count": null,
      "outputs": [
        {
          "output_type": "execute_result",
          "data": {
            "text/plain": [
              "100"
            ]
          },
          "metadata": {
            "tags": []
          },
          "execution_count": 6
        }
      ]
    },
    {
      "cell_type": "markdown",
      "metadata": {
        "id": "rpC-3mXeY1pr"
      },
      "source": [
        "Si intentamos llamar un atributo que no hemos creado, obtendremos error. Recordemos que tambien podemos crear atributos de forma dinamica, es decir, durante la ejecucuión del programa.\n"
      ]
    },
    {
      "cell_type": "code",
      "metadata": {
        "colab": {
          "base_uri": "https://localhost:8080/"
        },
        "id": "rJ4LNP0xZfIk",
        "outputId": "b6b3d58c-77c0-4407-e770-e8610862948a"
      },
      "source": [
        "otro_ejemplo.atributo2"
      ],
      "execution_count": null,
      "outputs": [
        {
          "output_type": "execute_result",
          "data": {
            "text/plain": [
              "100"
            ]
          },
          "metadata": {
            "tags": []
          },
          "execution_count": 7
        }
      ]
    },
    {
      "cell_type": "code",
      "metadata": {
        "id": "HckLP2T8Zh4D"
      },
      "source": [
        "otro_ejemplo.atributo3= \"Hola\""
      ],
      "execution_count": null,
      "outputs": []
    },
    {
      "cell_type": "code",
      "metadata": {
        "colab": {
          "base_uri": "https://localhost:8080/",
          "height": 35
        },
        "id": "KHl_ZbrSot9O",
        "outputId": "301174cd-c088-4ed3-db4c-4900707cf606"
      },
      "source": [
        "otro_ejemplo.atributo3"
      ],
      "execution_count": null,
      "outputs": [
        {
          "output_type": "execute_result",
          "data": {
            "application/vnd.google.colaboratory.intrinsic+json": {
              "type": "string"
            },
            "text/plain": [
              "'Hola'"
            ]
          },
          "metadata": {
            "tags": []
          },
          "execution_count": 9
        }
      ]
    },
    {
      "cell_type": "markdown",
      "metadata": {
        "id": "JEZcvvNh_NOE"
      },
      "source": [
        "####**Ejemplo clase**\n",
        "Crearemos una clase ***gato***, con los siguientes características:\n",
        "\n",
        "**Atributos:**\n",
        "- [x] Nombre\n",
        "- [x] Edad\n",
        "- [x] Alimentos Favoritos\n",
        "***\n",
        "**Métodos:**\n",
        "\n",
        "``` __init__()```\n",
        "\n",
        "```verEtapaDeVida()```\n",
        "\n",
        "```esAlimentoFavorito()```\n"
      ]
    },
    {
      "cell_type": "markdown",
      "metadata": {
        "id": "4qwewjxaKXbE"
      },
      "source": [
        "``` python\n",
        "class Gato():\n",
        "  especie= \"Mamífero\" \n",
        "      \n",
        "  def __init__(self, nombre, edad):\n",
        "    self.nombre = nombre\n",
        "    self.edad = edad\n",
        "    self.alimentos = []\n",
        "\n",
        "  def verEtapaDeVida(self):\n",
        "    if self.edad > 1:\n",
        "      print(self.nombre, \"es adulto\")\n",
        "    else:\n",
        "      print(self.nombre, \"es cachorro\")\n",
        "\n",
        "  def esAlimentoFavorito(Self,alimento):\n",
        "    return alimento in self.alimentos\n",
        "  \n",
        "```\n"
      ]
    },
    {
      "cell_type": "markdown",
      "metadata": {
        "id": "OfTqOJJSMA5S"
      },
      "source": [
        "Procedemos a crear la clase "
      ]
    },
    {
      "cell_type": "code",
      "metadata": {
        "id": "LgO48PVYD_qr"
      },
      "source": [
        "class Gato:\n",
        "  def __init__(self,nombre,edad):\n",
        "    self.nombre = nombre\n",
        "    self.edad = edad\n",
        "    self.alimentos = [] \n"
      ],
      "execution_count": null,
      "outputs": []
    },
    {
      "cell_type": "markdown",
      "metadata": {
        "id": "KuXQsUsRMP2n"
      },
      "source": [
        "Ahora podemos ***instanciar*** objetos a la clase ***Gato***\n"
      ]
    },
    {
      "cell_type": "code",
      "metadata": {
        "id": "oT9k_hdqMHHA"
      },
      "source": [
        "p = Gato(\"Pelusa\", 3)\n"
      ],
      "execution_count": null,
      "outputs": []
    },
    {
      "cell_type": "code",
      "metadata": {
        "colab": {
          "base_uri": "https://localhost:8080/",
          "height": 35
        },
        "id": "-x3AXNNLMqgZ",
        "outputId": "09c1a993-47e2-4aaf-fe66-e02920ff782c"
      },
      "source": [
        "p.nombre\n"
      ],
      "execution_count": null,
      "outputs": [
        {
          "output_type": "execute_result",
          "data": {
            "application/vnd.google.colaboratory.intrinsic+json": {
              "type": "string"
            },
            "text/plain": [
              "'Pelusa'"
            ]
          },
          "metadata": {
            "tags": []
          },
          "execution_count": 18
        }
      ]
    },
    {
      "cell_type": "code",
      "metadata": {
        "colab": {
          "base_uri": "https://localhost:8080/"
        },
        "id": "PnjKOFx8NUZH",
        "outputId": "0a3a67fc-6d47-4c35-9e88-0c4f7bcb66cb"
      },
      "source": [
        "p.edad\n"
      ],
      "execution_count": null,
      "outputs": [
        {
          "output_type": "execute_result",
          "data": {
            "text/plain": [
              "3"
            ]
          },
          "metadata": {
            "tags": []
          },
          "execution_count": 19
        }
      ]
    },
    {
      "cell_type": "markdown",
      "metadata": {
        "id": "ldZs_-drTIeq"
      },
      "source": [
        "***Nota:*** También podemos crear atributos de forma dinámica."
      ]
    },
    {
      "cell_type": "code",
      "metadata": {
        "id": "dNnf_G1bNb__"
      },
      "source": [
        "p.raza = \"Siamés\"\n"
      ],
      "execution_count": null,
      "outputs": []
    },
    {
      "cell_type": "code",
      "metadata": {
        "colab": {
          "base_uri": "https://localhost:8080/",
          "height": 35
        },
        "id": "1OG2O3nYN2yy",
        "outputId": "f56ac56f-a5e0-46ad-e87b-07114fb9616c"
      },
      "source": [
        "p.raza\n"
      ],
      "execution_count": null,
      "outputs": [
        {
          "output_type": "execute_result",
          "data": {
            "application/vnd.google.colaboratory.intrinsic+json": {
              "type": "string"
            },
            "text/plain": [
              "'Siamés'"
            ]
          },
          "metadata": {
            "tags": []
          },
          "execution_count": 21
        }
      ]
    },
    {
      "cell_type": "markdown",
      "metadata": {
        "id": "afQGXdaWTjR9"
      },
      "source": [
        "Instanciamos otro objeto de clase gato\n"
      ]
    },
    {
      "cell_type": "code",
      "metadata": {
        "id": "sY9MRm_4OWXS"
      },
      "source": [
        "g = Gato(\"Gordo\",5)\n"
      ],
      "execution_count": null,
      "outputs": []
    },
    {
      "cell_type": "code",
      "metadata": {
        "colab": {
          "base_uri": "https://localhost:8080/",
          "height": 35
        },
        "id": "CbhavkMrOn1v",
        "outputId": "64be2b5b-a0dd-43cc-84bd-6b1377f031b2"
      },
      "source": [
        "g.nombre\n"
      ],
      "execution_count": null,
      "outputs": [
        {
          "output_type": "execute_result",
          "data": {
            "application/vnd.google.colaboratory.intrinsic+json": {
              "type": "string"
            },
            "text/plain": [
              "'Gordo'"
            ]
          },
          "metadata": {
            "tags": []
          },
          "execution_count": 25
        }
      ]
    },
    {
      "cell_type": "code",
      "metadata": {
        "colab": {
          "base_uri": "https://localhost:8080/"
        },
        "id": "7kZncST6Ouer",
        "outputId": "a48bc94d-24c8-401c-cea2-3508a6021068"
      },
      "source": [
        "g.edad\n"
      ],
      "execution_count": null,
      "outputs": [
        {
          "output_type": "execute_result",
          "data": {
            "text/plain": [
              "5"
            ]
          },
          "metadata": {
            "tags": []
          },
          "execution_count": 26
        }
      ]
    },
    {
      "cell_type": "markdown",
      "metadata": {
        "id": "zyZ0oNO6Tp-l"
      },
      "source": [
        "Si intentamos acceder al atributo _\"raza\"_ en el objeto _'g'_ obtendremos un error.\n",
        "\n",
        "Resulta que en python, cada objeto tiene una dirección en memoria asignada\n",
        "la cual contiene un diccionario con todos sus atributos y métodos (guardar un par clave-valor en un diccionario)"
      ]
    },
    {
      "cell_type": "code",
      "metadata": {
        "colab": {
          "base_uri": "https://localhost:8080/",
          "height": 197
        },
        "id": "wWbixboTOECZ",
        "outputId": "06f5deea-4b3e-4864-b1ef-27d254059bf6"
      },
      "source": [
        "g.raza\n"
      ],
      "execution_count": null,
      "outputs": [
        {
          "output_type": "error",
          "ename": "AttributeError",
          "evalue": "ignored",
          "traceback": [
            "\u001b[0;31m---------------------------------------------------------------------------\u001b[0m",
            "\u001b[0;31mAttributeError\u001b[0m                            Traceback (most recent call last)",
            "\u001b[0;32m<ipython-input-27-078813fe3012>\u001b[0m in \u001b[0;36m<module>\u001b[0;34m()\u001b[0m\n\u001b[1;32m      7\u001b[0m \"\"\"\n\u001b[1;32m      8\u001b[0m \u001b[0;34m\u001b[0m\u001b[0m\n\u001b[0;32m----> 9\u001b[0;31m \u001b[0mg\u001b[0m\u001b[0;34m.\u001b[0m\u001b[0mraza\u001b[0m\u001b[0;34m\u001b[0m\u001b[0;34m\u001b[0m\u001b[0m\n\u001b[0m",
            "\u001b[0;31mAttributeError\u001b[0m: 'Gato' object has no attribute 'raza'"
          ]
        }
      ]
    },
    {
      "cell_type": "code",
      "metadata": {
        "colab": {
          "base_uri": "https://localhost:8080/"
        },
        "id": "UMDx28FCQM1A",
        "outputId": "569a69c3-faea-461d-a690-18e769e644d9"
      },
      "source": [
        "p\n"
      ],
      "execution_count": null,
      "outputs": [
        {
          "output_type": "execute_result",
          "data": {
            "text/plain": [
              "<__main__.Gato at 0x7f7cae66b390>"
            ]
          },
          "metadata": {
            "tags": []
          },
          "execution_count": 28
        }
      ]
    },
    {
      "cell_type": "code",
      "metadata": {
        "colab": {
          "base_uri": "https://localhost:8080/"
        },
        "id": "UlysLt53QT_4",
        "outputId": "87b1a5fa-0ae5-46aa-8c91-843460f3285c"
      },
      "source": [
        "g\n"
      ],
      "execution_count": null,
      "outputs": [
        {
          "output_type": "execute_result",
          "data": {
            "text/plain": [
              "<__main__.Gato at 0x7f7cae66bda0>"
            ]
          },
          "metadata": {
            "tags": []
          },
          "execution_count": 29
        }
      ]
    },
    {
      "cell_type": "code",
      "metadata": {
        "id": "zrnrTtDFQU2n"
      },
      "source": [
        "g.raza = \"Criollo\"\n"
      ],
      "execution_count": null,
      "outputs": []
    },
    {
      "cell_type": "markdown",
      "metadata": {
        "id": "rj43OHXnSh3n"
      },
      "source": [
        "Ahora hagamos uso de los métdos en la clase.\n",
        "\n"
      ]
    },
    {
      "cell_type": "code",
      "metadata": {
        "id": "YMa5cjxPSTVK"
      },
      "source": [
        "class Gato:  \n",
        "  especie= \"Mamífero\" \n",
        "      \n",
        "  def __init__(self, nombre, edad):\n",
        "    self.nombre = nombre\n",
        "    self.edad = edad\n",
        "    self.alimentos = []\n",
        "\n",
        "  def verEtapaDeVida(self):\n",
        "    if self.edad > 1:\n",
        "      print(self.nombre, \"es adulto\")\n",
        "    else:\n",
        "      print(self.nombre, \"es cachorro\")\n",
        "  \n",
        "  def esAlimentoFavorito(Self,alimento):\n",
        "    return alimento in self.alimentos\n"
      ],
      "execution_count": null,
      "outputs": []
    },
    {
      "cell_type": "code",
      "metadata": {
        "colab": {
          "base_uri": "https://localhost:8080/"
        },
        "id": "K9QbjIQHlZPp",
        "outputId": "4e184764-b8c2-4c54-87e0-99e79902357f"
      },
      "source": [
        "Gato.__dict__Gato.__dict__\n"
      ],
      "execution_count": null,
      "outputs": [
        {
          "output_type": "execute_result",
          "data": {
            "text/plain": [
              "mappingproxy({'__dict__': <attribute '__dict__' of 'Gato' objects>,\n",
              "              '__doc__': None,\n",
              "              '__init__': <function __main__.Gato.__init__>,\n",
              "              '__module__': '__main__',\n",
              "              '__weakref__': <attribute '__weakref__' of 'Gato' objects>,\n",
              "              'esAlimentoFavorito': <function __main__.Gato.esAlimentoFavorito>,\n",
              "              'especie': 'Mamífero',\n",
              "              'verEtapaDeVida': <function __main__.Gato.verEtapaDeVida>})"
            ]
          },
          "metadata": {},
          "execution_count": 2
        }
      ]
    },
    {
      "cell_type": "code",
      "metadata": {
        "colab": {
          "base_uri": "https://localhost:8080/"
        },
        "id": "2f3vQheUmrfO",
        "outputId": "f925634b-9749-4804-8f36-284d924f336a"
      },
      "source": [
        "Gato.__init__ \n"
      ],
      "execution_count": null,
      "outputs": [
        {
          "output_type": "execute_result",
          "data": {
            "text/plain": [
              "<function __main__.Gato.__init__>"
            ]
          },
          "metadata": {},
          "execution_count": 3
        }
      ]
    },
    {
      "cell_type": "code",
      "metadata": {
        "colab": {
          "base_uri": "https://localhost:8080/"
        },
        "id": "HRlR2KLrmxg9",
        "outputId": "e9f1ce4a-daef-47f2-ec59-e18b83d81772"
      },
      "source": [
        "Gato.__sizeof__\n"
      ],
      "execution_count": null,
      "outputs": [
        {
          "output_type": "execute_result",
          "data": {
            "text/plain": [
              "<method '__sizeof__' of 'object' objects>"
            ]
          },
          "metadata": {},
          "execution_count": 4
        }
      ]
    },
    {
      "cell_type": "markdown",
      "metadata": {
        "id": "WTXeV-TYUHPI"
      },
      "source": [
        "Instanciemos algunos objetos...\n"
      ]
    },
    {
      "cell_type": "code",
      "metadata": {
        "id": "8JA2yUG9Sgbt"
      },
      "source": [
        "p = Gato(\"Manchas\",1)\n"
      ],
      "execution_count": null,
      "outputs": []
    },
    {
      "cell_type": "code",
      "metadata": {
        "colab": {
          "base_uri": "https://localhost:8080/",
          "height": 35
        },
        "id": "95SvmSNvTC8N",
        "outputId": "d5d4c1b3-5615-4813-c962-b90117f11bde"
      },
      "source": [
        "p.nombre"
      ],
      "execution_count": null,
      "outputs": [
        {
          "output_type": "execute_result",
          "data": {
            "application/vnd.google.colaboratory.intrinsic+json": {
              "type": "string"
            },
            "text/plain": [
              "'Manchas'"
            ]
          },
          "metadata": {
            "tags": []
          },
          "execution_count": 35
        }
      ]
    },
    {
      "cell_type": "code",
      "metadata": {
        "colab": {
          "base_uri": "https://localhost:8080/"
        },
        "id": "g3TY08WbTGIA",
        "outputId": "800338f6-39ff-48df-dd55-e43b27f9e902"
      },
      "source": [
        "p.edad\n"
      ],
      "execution_count": null,
      "outputs": [
        {
          "output_type": "execute_result",
          "data": {
            "text/plain": [
              "1"
            ]
          },
          "metadata": {
            "tags": []
          },
          "execution_count": 36
        }
      ]
    },
    {
      "cell_type": "markdown",
      "metadata": {
        "id": "YUWHl5QDUSaS"
      },
      "source": [
        "Hagamos uso de uno de sus métodos, en este caso no se necesita ingresar ningún parámetro de entrada, veamos."
      ]
    },
    {
      "cell_type": "code",
      "metadata": {
        "colab": {
          "base_uri": "https://localhost:8080/"
        },
        "id": "w0BC1RD1THbP",
        "outputId": "c449350c-828f-4995-9c57-b7f3907a7f36"
      },
      "source": [
        "p.verEtapaDeVida()\n"
      ],
      "execution_count": null,
      "outputs": [
        {
          "output_type": "stream",
          "text": [
            "Manchas es cachorro\n"
          ],
          "name": "stdout"
        }
      ]
    },
    {
      "cell_type": "markdown",
      "metadata": {
        "id": "BVco7dp3UgEq"
      },
      "source": [
        "Repitamos este ejercicio"
      ]
    },
    {
      "cell_type": "code",
      "metadata": {
        "id": "EGzMsTGrTLhW"
      },
      "source": [
        "g = Gato(\"Doris\",3)\n"
      ],
      "execution_count": null,
      "outputs": []
    },
    {
      "cell_type": "code",
      "metadata": {
        "colab": {
          "base_uri": "https://localhost:8080/",
          "height": 35
        },
        "id": "kjacr9tWUrEU",
        "outputId": "9b65ea80-ebf0-4568-d3d7-00836810f268"
      },
      "source": [
        "g.nombre\n"
      ],
      "execution_count": null,
      "outputs": [
        {
          "output_type": "execute_result",
          "data": {
            "application/vnd.google.colaboratory.intrinsic+json": {
              "type": "string"
            },
            "text/plain": [
              "'Doris'"
            ]
          },
          "metadata": {
            "tags": []
          },
          "execution_count": 40
        }
      ]
    },
    {
      "cell_type": "code",
      "metadata": {
        "colab": {
          "base_uri": "https://localhost:8080/"
        },
        "id": "TPsRiwWsUx6h",
        "outputId": "a7664b0c-2438-461b-e583-3f9c70254308"
      },
      "source": [
        "g.edad\n"
      ],
      "execution_count": null,
      "outputs": [
        {
          "output_type": "execute_result",
          "data": {
            "text/plain": [
              "3"
            ]
          },
          "metadata": {
            "tags": []
          },
          "execution_count": 41
        }
      ]
    },
    {
      "cell_type": "markdown",
      "metadata": {
        "id": "OG1sRGR8VVMa"
      },
      "source": [
        "Generemos algunos atributos a _'p'_ y _'g'_"
      ]
    },
    {
      "cell_type": "code",
      "metadata": {
        "id": "LORPjQCLUy9z"
      },
      "source": [
        "p.alimentos = [\"Leche\",\"Galletas\",\"Atún\"]\n",
        "g.alimentos = [\"Arroz\",\"Pollo\",\"Zanahoria\",\"Pescado\"]\n"
      ],
      "execution_count": null,
      "outputs": []
    },
    {
      "cell_type": "markdown",
      "metadata": {
        "id": "x4J5peMkFzWp"
      },
      "source": [
        "##**Herencia**\n",
        "***Relación de generalización:*** La clase ***padre*** es un caso general de la clase ***hija***.\n",
        "\n",
        "La subclase hereda los métodos de la superclase, a menos que la sublase los reimplemente.\n",
        "\n",
        "En Python a diferencia de otros lenguajes, una una subclase puede tener multilple herencia. es decir; una clase hija, puede heredar de diferentes ***SuperClases*** o diferentes clases padres.\n",
        "***\n",
        "Las clases ***Abstractas*** no pueden ser **instanciadas**. Para crearlas en python, se hace uso de la librería [***ABC***](https://docs.python.org/3/library/abc.html)\n",
        ">***Nota:***  _Instanciar objetos es el proceso de generar un ejemplar de una clase, es decir, la clase es como una declaración de una forma y el objeto es un caso o elemento concreto que responde a esa forma._ \n",
        "\n"
      ]
    },
    {
      "cell_type": "markdown",
      "metadata": {
        "id": "qb98mPpaqAUT"
      },
      "source": [
        "**Ejemplo de Super Clase o Clase Padre**"
      ]
    },
    {
      "cell_type": "code",
      "metadata": {
        "id": "k-GxEk8bTabP"
      },
      "source": [
        "class Empleados():\n",
        "  def __init__(self,nombre, edad, legajo, sueldo):\n",
        "    self.nombre = nombre\n",
        "    self.edad = edad\n",
        "    self.legajo = legajo\n",
        "    self.sueldoBase = sueldo\n",
        "\n",
        "  def calcularSueldo(self,descuentos,bonos):\n",
        "    return self.sueldoBase - descuentos + bonos\n",
        " "
      ],
      "execution_count": null,
      "outputs": []
    },
    {
      "cell_type": "markdown",
      "metadata": {
        "id": "BBPkVwG7qRSe"
      },
      "source": [
        "Supongamos que tenemos la siguiente clase:"
      ]
    },
    {
      "cell_type": "code",
      "metadata": {
        "id": "57WOvo4YqbH0"
      },
      "source": [
        "class AgenteVentas():\n",
        "  def __init__(self,mostrador):\n",
        "    self.numeroMostrador = mostrador"
      ],
      "execution_count": null,
      "outputs": []
    },
    {
      "cell_type": "markdown",
      "metadata": {
        "id": "l0ekfWCSrU1G"
      },
      "source": [
        "Si queremos que esta clase herede los métodos de la clase ***Empleados*** lo hacemos de la siguiente manera, y así obtendrá todos los métodos de la super clase "
      ]
    },
    {
      "cell_type": "code",
      "metadata": {
        "id": "PYyKKOkxsGhI"
      },
      "source": [
        "class AgenteVentas(Empleados):\n",
        "  def __init__(self, mostrador):\n",
        "    self.numeroMostrador = mostrador"
      ],
      "execution_count": null,
      "outputs": []
    },
    {
      "cell_type": "markdown",
      "metadata": {
        "id": "tvDtggCosWjt"
      },
      "source": [
        "\n",
        "De la manera anterior es como obtenemos todos los metodos de la clase; incluyendo el método ***init***. \n",
        "\n",
        "Es importante mencionar que en este caso, no vamos a recibir todos los métodos de la super clase.\n",
        "\n",
        "***¿A que se debe esto?*** \n",
        "\n",
        "Sucede que al reimplentar cualquier método (en este caso el init) se utiliza el de la clase hija y no la del padre. Luego para esta caso, no se estará cargando ningun método de la clase padre y solo se ejecutará lo descrito por método init de la clase hija. \n",
        "\n",
        "Veamos, si instanciamos un objeto de la clase ***AgenteVentas*** e intentamos llamar uno de los atributos que contiene la super clase, obtendremos un error.\n",
        "\n",
        "\n"
      ]
    },
    {
      "cell_type": "code",
      "metadata": {
        "colab": {
          "base_uri": "https://localhost:8080/"
        },
        "id": "EvjDSvWYv2Yq",
        "outputId": "65508f64-e43b-4e6b-8bd0-e66d33d18414"
      },
      "source": [
        "pedro = AgenteVentas(4)\n",
        "pedro.numeroMostrador"
      ],
      "execution_count": null,
      "outputs": [
        {
          "output_type": "execute_result",
          "data": {
            "text/plain": [
              "4"
            ]
          },
          "metadata": {},
          "execution_count": 44
        }
      ]
    },
    {
      "cell_type": "code",
      "metadata": {
        "colab": {
          "base_uri": "https://localhost:8080/",
          "height": 172
        },
        "id": "8VzjRuS8wlZA",
        "outputId": "887f9bd7-89e8-4c43-b338-d287082f732e"
      },
      "source": [
        "pedro.nombre"
      ],
      "execution_count": null,
      "outputs": [
        {
          "output_type": "error",
          "ename": "AttributeError",
          "evalue": "ignored",
          "traceback": [
            "\u001b[0;31m---------------------------------------------------------------------------\u001b[0m",
            "\u001b[0;31mAttributeError\u001b[0m                            Traceback (most recent call last)",
            "\u001b[0;32m<ipython-input-45-0c9c47357153>\u001b[0m in \u001b[0;36m<module>\u001b[0;34m()\u001b[0m\n\u001b[0;32m----> 1\u001b[0;31m \u001b[0mpedro\u001b[0m\u001b[0;34m.\u001b[0m\u001b[0mnombre\u001b[0m\u001b[0;34m\u001b[0m\u001b[0;34m\u001b[0m\u001b[0m\n\u001b[0m",
            "\u001b[0;31mAttributeError\u001b[0m: 'AgenteVentas' object has no attribute 'nombre'"
          ]
        }
      ]
    },
    {
      "cell_type": "markdown",
      "metadata": {
        "id": "6FrLqW3UwsNY"
      },
      "source": [
        "Esto sucedió por haber reimplementado el método **init**. Para poder que la clase hija reciba los atributos y metodos de la super clase; debemos hacer un llamado especial al método init de la clase padre dentro de la clase hija, e incluir los parametros.\n",
        "\n",
        "Supongamos que queremos que el usuario ingrese los datos de los atributos. En este ejemplo sería de la siguiente manera:"
      ]
    },
    {
      "cell_type": "code",
      "metadata": {
        "id": "V3EfXW-nxfey"
      },
      "source": [
        "class AgenteVentas(Empleados):\n",
        "  def __init__(self, nombre, edad, legajo, sueldo, mostrador):\n",
        "    self.numeroMostrador = mostrador\n",
        "    super().__init__(nombre, edad, legajo, sueldo)\n"
      ],
      "execution_count": null,
      "outputs": []
    },
    {
      "cell_type": "markdown",
      "metadata": {
        "id": "4rGhMwiAz2FY"
      },
      "source": [
        "Ahora para instanciar un objeto de clase AgenteVentas, debemos ingresar todos los parametros."
      ]
    },
    {
      "cell_type": "code",
      "metadata": {
        "id": "vbshKdamz-wR"
      },
      "source": [
        "pablo =AgenteVentas(\"Pablito alimaña\", 28, 100, 6500, 7)\n"
      ],
      "execution_count": null,
      "outputs": []
    },
    {
      "cell_type": "code",
      "metadata": {
        "colab": {
          "base_uri": "https://localhost:8080/",
          "height": 36
        },
        "id": "0GfmTPV20VE5",
        "outputId": "ad2249d2-da8b-4ccd-b6cd-8d9959d5a5b0"
      },
      "source": [
        "pablo.nombre\n"
      ],
      "execution_count": null,
      "outputs": [
        {
          "output_type": "execute_result",
          "data": {
            "application/vnd.google.colaboratory.intrinsic+json": {
              "type": "string"
            },
            "text/plain": [
              "'Pablito alimaña'"
            ]
          },
          "metadata": {},
          "execution_count": 48
        }
      ]
    },
    {
      "cell_type": "markdown",
      "metadata": {
        "id": "m5L2UDNN0t5E"
      },
      "source": [
        "Ahora calculemos el sueldo de Pablito, recordar que debemos ingresar unos parametros especificos para ejecutar este método.\n",
        "\n"
      ]
    },
    {
      "cell_type": "code",
      "metadata": {
        "colab": {
          "base_uri": "https://localhost:8080/"
        },
        "id": "NVbOr28y01O-",
        "outputId": "204348da-a04e-410a-94f1-dc0b2d7a5692"
      },
      "source": [
        "pablo.calcularSueldo(50,1800)\n"
      ],
      "execution_count": null,
      "outputs": [
        {
          "output_type": "execute_result",
          "data": {
            "text/plain": [
              "8250"
            ]
          },
          "metadata": {},
          "execution_count": 49
        }
      ]
    },
    {
      "cell_type": "markdown",
      "metadata": {
        "id": "ECL1wy7C1sCI"
      },
      "source": [
        "Supongamos que queremos una clase hija llamada **Tripulante** que tambien herede de la Super clase ***Empleado***. Lo que tenemos que hacer es lo siguiente:\n",
        "\n"
      ]
    },
    {
      "cell_type": "code",
      "metadata": {
        "id": "9OS11q952DKb"
      },
      "source": [
        "class Tripulante(Empleado):\n",
        "  def mostrarRenovacionLicencia(self):\n",
        "    if edad>50:\n",
        "      print(\"Debe renovar licencia cada año\")\n",
        "    else:\n",
        "      print(\"Debe Renovar cada 6 meses\")\n"
      ],
      "execution_count": null,
      "outputs": []
    },
    {
      "cell_type": "markdown",
      "metadata": {
        "id": "icAVfoax3pV1"
      },
      "source": [
        ""
      ]
    },
    {
      "cell_type": "markdown",
      "metadata": {
        "id": "Nag0hvoeTbDv"
      },
      "source": [
        "##**Encapsulamiento**\n"
      ]
    },
    {
      "cell_type": "markdown",
      "metadata": {
        "id": "-VF93_3qTibQ"
      },
      "source": [
        ""
      ]
    },
    {
      "cell_type": "markdown",
      "metadata": {
        "id": "VEN21a-rV17y"
      },
      "source": [
        "##**Ocultamiento**"
      ]
    },
    {
      "cell_type": "markdown",
      "metadata": {
        "id": "36_8ITisV9QE"
      },
      "source": [
        "###***Getters y setters***"
      ]
    },
    {
      "cell_type": "markdown",
      "metadata": {
        "id": "J2ZVaMPyYD8G"
      },
      "source": [
        "###***Properties***"
      ]
    },
    {
      "cell_type": "markdown",
      "metadata": {
        "id": "4JKa3vNzYG6s"
      },
      "source": [
        "##**Abstracción**"
      ]
    },
    {
      "cell_type": "markdown",
      "metadata": {
        "id": "EOh_Urvsa2G_"
      },
      "source": [
        ""
      ]
    },
    {
      "cell_type": "markdown",
      "metadata": {
        "id": "hi7q12kwba8T"
      },
      "source": [
        "##**Polimorfísmo**"
      ]
    },
    {
      "cell_type": "markdown",
      "metadata": {
        "id": "BmU_crGCbfhp"
      },
      "source": [
        ""
      ]
    },
    {
      "cell_type": "code",
      "metadata": {
        "id": "WhhtlmBBwLo1"
      },
      "source": [
        "ts = [-1, 0, 0, 5, -5, 6, -3, 2, 10, 13, 8, 70, -36, 36]\n",
        "ts.sort?"
      ],
      "execution_count": null,
      "outputs": []
    },
    {
      "cell_type": "code",
      "metadata": {
        "colab": {
          "base_uri": "https://localhost:8080/"
        },
        "id": "mfU1nNfdwQWU",
        "outputId": "3a7ec537-b6bc-4dce-d5d6-c5937e8eb3a0"
      },
      "source": [
        "type(5)"
      ],
      "execution_count": null,
      "outputs": [
        {
          "output_type": "execute_result",
          "data": {
            "text/plain": [
              "int"
            ]
          },
          "metadata": {
            "tags": []
          },
          "execution_count": 6
        }
      ]
    },
    {
      "cell_type": "code",
      "metadata": {
        "colab": {
          "base_uri": "https://localhost:8080/"
        },
        "id": "7zoMr5LBiWrT",
        "outputId": "b3181f7c-4ef4-4de2-daa9-2f03b35b67a6"
      },
      "source": [
        "from google.colab import drive\n",
        "drive.mount('/content/drive')"
      ],
      "execution_count": null,
      "outputs": [
        {
          "output_type": "stream",
          "text": [
            "Mounted at /content/drive\n"
          ],
          "name": "stdout"
        }
      ]
    },
    {
      "cell_type": "code",
      "metadata": {
        "id": "wR0pjHRb6Oku",
        "colab": {
          "base_uri": "https://localhost:8080/",
          "height": 299
        },
        "outputId": "aff57a27-3256-4453-c2a8-495ea8cc8270"
      },
      "source": [
        "from PIL import image"
      ],
      "execution_count": null,
      "outputs": [
        {
          "output_type": "error",
          "ename": "ImportError",
          "evalue": "ignored",
          "traceback": [
            "\u001b[0;31m---------------------------------------------------------------------------\u001b[0m",
            "\u001b[0;31mImportError\u001b[0m                               Traceback (most recent call last)",
            "\u001b[0;32m<ipython-input-6-7892611e7a30>\u001b[0m in \u001b[0;36m<module>\u001b[0;34m()\u001b[0m\n\u001b[0;32m----> 1\u001b[0;31m \u001b[0;32mfrom\u001b[0m \u001b[0mPIL\u001b[0m \u001b[0;32mimport\u001b[0m \u001b[0mimage\u001b[0m\u001b[0;34m\u001b[0m\u001b[0;34m\u001b[0m\u001b[0m\n\u001b[0m",
            "\u001b[0;31mImportError\u001b[0m: cannot import name 'image'",
            "",
            "\u001b[0;31m---------------------------------------------------------------------------\u001b[0;32m\nNOTE: If your import is failing due to a missing package, you can\nmanually install dependencies using either !pip or !apt.\n\nTo view examples of installing some common dependencies, click the\n\"Open Examples\" button below.\n\u001b[0;31m---------------------------------------------------------------------------\u001b[0m\n"
          ]
        }
      ]
    },
    {
      "cell_type": "code",
      "metadata": {
        "id": "98sZwQMAlijn"
      },
      "source": [
        "\n",
        "img = image.open('/content/drive/MyDrive/OOP/Data/ioker.jpg')\n",
        "im.thumbnail(size, Image.ANTIALIAS)\n",
        "img.save('/content/drive/MyDrive/OOP/Data/resized.jpg','jpg')"
      ],
      "execution_count": null,
      "outputs": []
    },
    {
      "cell_type": "code",
      "metadata": {
        "id": "bTlAWhwOPDEX"
      },
      "source": [
        "class ejemplo:\n",
        "  def __init__(self,a,b):\n",
        "    self.a=a\n",
        "    self.b=b\n",
        "\n",
        "un_ejemplo=ejemplo(4,'c')"
      ],
      "execution_count": null,
      "outputs": []
    },
    {
      "cell_type": "code",
      "metadata": {
        "colab": {
          "base_uri": "https://localhost:8080/"
        },
        "id": "N4zJjP12kS53",
        "outputId": "344f1376-6d4a-4075-dc21-2b85c1026b43"
      },
      "source": [
        "un_ejemplo"
      ],
      "execution_count": null,
      "outputs": [
        {
          "output_type": "execute_result",
          "data": {
            "text/plain": [
              "<__main__.ejemplo at 0x7f8d00376fd0>"
            ]
          },
          "metadata": {
            "tags": []
          },
          "execution_count": 2
        }
      ]
    },
    {
      "cell_type": "code",
      "metadata": {
        "colab": {
          "base_uri": "https://localhost:8080/"
        },
        "id": "yvU17X4Vkwm7",
        "outputId": "85fbd077-f8ec-434e-d528-61e2b17f5634"
      },
      "source": [
        "un_ejemplo.a"
      ],
      "execution_count": null,
      "outputs": [
        {
          "output_type": "execute_result",
          "data": {
            "text/plain": [
              "4"
            ]
          },
          "metadata": {
            "tags": []
          },
          "execution_count": 3
        }
      ]
    },
    {
      "cell_type": "code",
      "metadata": {
        "id": "S7LrSIc6k8Hz"
      },
      "source": [
        "#crear un atributo de forma dinamica\n",
        "un_ejemplo.c= 'xD'"
      ],
      "execution_count": null,
      "outputs": []
    },
    {
      "cell_type": "code",
      "metadata": {
        "colab": {
          "base_uri": "https://localhost:8080/",
          "height": 35
        },
        "id": "bTK_I7axlgrX",
        "outputId": "e11c18e6-0284-43cb-f152-d6b21d36cf95"
      },
      "source": [
        "un_ejemplo.c"
      ],
      "execution_count": null,
      "outputs": [
        {
          "output_type": "execute_result",
          "data": {
            "application/vnd.google.colaboratory.intrinsic+json": {
              "type": "string"
            },
            "text/plain": [
              "'xD'"
            ]
          },
          "metadata": {
            "tags": []
          },
          "execution_count": 5
        }
      ]
    },
    {
      "cell_type": "code",
      "metadata": {
        "id": "4mFux0cPlnXh"
      },
      "source": [
        "#Ejemplo clase gato\n",
        "'''\n",
        "  Atributos:                  Métodos:\n",
        "  Nombre                      __init__()\n",
        "  Edad                        verEtapaDeVida()\n",
        "  Alimentos favoritos         esAlimentoFavorito()\n",
        "  '''\n",
        "\n",
        "class Gato:\n",
        "  especie='mamífero' #Atributo de clase\n",
        "  #en este caso el atributo tambien es estático, ya que no necesita un objeto para obtenerlo \n",
        "\n",
        "  #Este es el método constructor, el cual contiene algunos parametros, y no necesariamente deben estar todos'''\n",
        "  def __init__(self,nombre,edad):\n",
        "    self.nombre=nombre\n",
        "    self.edad=edad\n",
        "    self.alimentos=[]\n",
        "\n",
        "\n",
        "\n",
        "  #Visualizar la etapa de vida de la mascota\n",
        "  def verEtapaDeVida(self):\n",
        "  #Indica si la mascota es adulta o cachorra\n",
        "    if self.edad<1:\n",
        "      print(self.nombre,'ya es adulto')\n",
        "    else:\n",
        "      print(self.nombre, 'aun es cachorro')\n",
        "\n",
        "\n",
        "  #Nos arrojará True or False, si encuentra o no un elemento en la lista de alimentos*\n",
        "  def esAlimentoFavorito(self,alimento):\n",
        "    return alimento in self.alimentos"
      ],
      "execution_count": null,
      "outputs": []
    },
    {
      "cell_type": "code",
      "metadata": {
        "colab": {
          "base_uri": "https://localhost:8080/"
        },
        "id": "LcYc_Z6epBIq",
        "outputId": "7dd1eb85-5e26-4b9b-9576-6e1e957574e1"
      },
      "source": [
        "#Instanciemos objetos \n",
        "p=Gato('Timmy',1)\n",
        "p.verEtapaDeVida()"
      ],
      "execution_count": null,
      "outputs": [
        {
          "output_type": "stream",
          "text": [
            "Timmy aun es cachorro\n"
          ],
          "name": "stdout"
        }
      ]
    },
    {
      "cell_type": "code",
      "metadata": {
        "colab": {
          "base_uri": "https://localhost:8080/"
        },
        "id": "cdotfugEqYL5",
        "outputId": "5d6d953d-6330-458c-d9e1-bb3f10fe76b5"
      },
      "source": [
        "p.edad=3\n",
        "p.verEtapaDeVida()\n"
      ],
      "execution_count": null,
      "outputs": [
        {
          "output_type": "stream",
          "text": [
            "Timmy aun es cachorro\n"
          ],
          "name": "stdout"
        }
      ]
    },
    {
      "cell_type": "code",
      "metadata": {
        "colab": {
          "base_uri": "https://localhost:8080/",
          "height": 35
        },
        "id": "ivL5pXC7q_2a",
        "outputId": "40203528-f645-4bc3-c4ba-c43b4245f489"
      },
      "source": [
        "p.especie"
      ],
      "execution_count": null,
      "outputs": [
        {
          "output_type": "execute_result",
          "data": {
            "application/vnd.google.colaboratory.intrinsic+json": {
              "type": "string"
            },
            "text/plain": [
              "'mamífero'"
            ]
          },
          "metadata": {
            "tags": []
          },
          "execution_count": 17
        }
      ]
    },
    {
      "cell_type": "code",
      "metadata": {
        "colab": {
          "base_uri": "https://localhost:8080/",
          "height": 35
        },
        "id": "24E9jLMzUeaU",
        "outputId": "414ef727-102b-4906-fe90-8a5f74ea1f47"
      },
      "source": [
        "#Atributo estático\n",
        "Gato.especie "
      ],
      "execution_count": null,
      "outputs": [
        {
          "output_type": "execute_result",
          "data": {
            "application/vnd.google.colaboratory.intrinsic+json": {
              "type": "string"
            },
            "text/plain": [
              "'mamífero'"
            ]
          },
          "metadata": {
            "tags": []
          },
          "execution_count": 22
        }
      ]
    }
  ]
}